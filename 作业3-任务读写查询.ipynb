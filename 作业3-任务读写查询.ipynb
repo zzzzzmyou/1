{
 "cells": [
  {
   "cell_type": "code",
   "execution_count": 1,
   "metadata": {},
   "outputs": [],
   "source": [
    "#任务1:csv格式数据的读写查询\n",
    "\n",
    "import pandas as pd"
   ]
  },
  {
   "cell_type": "code",
   "execution_count": 2,
   "metadata": {},
   "outputs": [
    {
     "data": {
      "text/html": [
       "<div>\n",
       "<style scoped>\n",
       "    .dataframe tbody tr th:only-of-type {\n",
       "        vertical-align: middle;\n",
       "    }\n",
       "\n",
       "    .dataframe tbody tr th {\n",
       "        vertical-align: top;\n",
       "    }\n",
       "\n",
       "    .dataframe thead th {\n",
       "        text-align: right;\n",
       "    }\n",
       "</style>\n",
       "<table border=\"1\" class=\"dataframe\">\n",
       "  <thead>\n",
       "    <tr style=\"text-align: right;\">\n",
       "      <th></th>\n",
       "      <th>姓名</th>\n",
       "      <th>学号</th>\n",
       "      <th>Github仓库地址</th>\n",
       "      <th>查看附件(在电脑本地点击下列链接,可直接打开对应文件)</th>\n",
       "      <th>提交时间</th>\n",
       "    </tr>\n",
       "  </thead>\n",
       "  <tbody>\n",
       "    <tr>\n",
       "      <th>0</th>\n",
       "      <td>许思勤</td>\n",
       "      <td>p221014505</td>\n",
       "      <td>https://github.com/qqliulian/liulianhao</td>\n",
       "      <td>NaN</td>\n",
       "      <td>2023-09-01 23:40:13</td>\n",
       "    </tr>\n",
       "    <tr>\n",
       "      <th>1</th>\n",
       "      <td>高娴</td>\n",
       "      <td>P221014587</td>\n",
       "      <td>https://github.com/gx530381/gxx</td>\n",
       "      <td>NaN</td>\n",
       "      <td>2023-09-01 18:06:59</td>\n",
       "    </tr>\n",
       "    <tr>\n",
       "      <th>2</th>\n",
       "      <td>周茂</td>\n",
       "      <td>P221014674</td>\n",
       "      <td>https://github.com/zzzzzmyou/1</td>\n",
       "      <td>NaN</td>\n",
       "      <td>2023-09-01 16:25:11</td>\n",
       "    </tr>\n",
       "    <tr>\n",
       "      <th>3</th>\n",
       "      <td>古颜</td>\n",
       "      <td>P221014641</td>\n",
       "      <td>https://github.com/luohuazhanbaiyi/111</td>\n",
       "      <td>NaN</td>\n",
       "      <td>2023-09-01 13:56:15</td>\n",
       "    </tr>\n",
       "    <tr>\n",
       "      <th>4</th>\n",
       "      <td>颜慈</td>\n",
       "      <td>P221014638</td>\n",
       "      <td>https://github.com/Yuxikkk/yyyc</td>\n",
       "      <td>NaN</td>\n",
       "      <td>2023-08-31 23:15:20</td>\n",
       "    </tr>\n",
       "    <tr>\n",
       "      <th>...</th>\n",
       "      <td>...</td>\n",
       "      <td>...</td>\n",
       "      <td>...</td>\n",
       "      <td>...</td>\n",
       "      <td>...</td>\n",
       "    </tr>\n",
       "    <tr>\n",
       "      <th>86</th>\n",
       "      <td>徐睿鲲</td>\n",
       "      <td>P221014520</td>\n",
       "      <td>https://github.com/huuggu/xuanxiu</td>\n",
       "      <td>NaN</td>\n",
       "      <td>2023-08-30 21:40:22</td>\n",
       "    </tr>\n",
       "    <tr>\n",
       "      <th>87</th>\n",
       "      <td>刘占森</td>\n",
       "      <td>P221014508</td>\n",
       "      <td>https://github.com/Anbnann/homework</td>\n",
       "      <td>NaN</td>\n",
       "      <td>2023-08-30 21:09:06</td>\n",
       "    </tr>\n",
       "    <tr>\n",
       "      <th>88</th>\n",
       "      <td>崔益广</td>\n",
       "      <td>P221014559</td>\n",
       "      <td>https://github.com/Anuibmlcu/cuizero</td>\n",
       "      <td>NaN</td>\n",
       "      <td>2023-08-30 21:04:18</td>\n",
       "    </tr>\n",
       "    <tr>\n",
       "      <th>89</th>\n",
       "      <td>吴娅蕾</td>\n",
       "      <td>P221014457</td>\n",
       "      <td>https://github.com/imAShiiiiiii/statistic-2023</td>\n",
       "      <td>NaN</td>\n",
       "      <td>2023-08-30 20:43:55</td>\n",
       "    </tr>\n",
       "    <tr>\n",
       "      <th>90</th>\n",
       "      <td>蓝苡榕</td>\n",
       "      <td>P221014511</td>\n",
       "      <td>https://github.com/lanyirongacyl/statistic</td>\n",
       "      <td>NaN</td>\n",
       "      <td>2023-08-30 20:39:22</td>\n",
       "    </tr>\n",
       "  </tbody>\n",
       "</table>\n",
       "<p>91 rows × 5 columns</p>\n",
       "</div>"
      ],
      "text/plain": [
       "     姓名          学号                                      Github仓库地址  \\\n",
       "0   许思勤  p221014505         https://github.com/qqliulian/liulianhao   \n",
       "1    高娴  P221014587                 https://github.com/gx530381/gxx   \n",
       "2    周茂  P221014674                  https://github.com/zzzzzmyou/1   \n",
       "3    古颜  P221014641          https://github.com/luohuazhanbaiyi/111   \n",
       "4    颜慈  P221014638                 https://github.com/Yuxikkk/yyyc   \n",
       "..  ...         ...                                             ...   \n",
       "86  徐睿鲲  P221014520               https://github.com/huuggu/xuanxiu   \n",
       "87  刘占森  P221014508             https://github.com/Anbnann/homework   \n",
       "88  崔益广  P221014559            https://github.com/Anuibmlcu/cuizero   \n",
       "89  吴娅蕾  P221014457  https://github.com/imAShiiiiiii/statistic-2023   \n",
       "90  蓝苡榕  P221014511      https://github.com/lanyirongacyl/statistic   \n",
       "\n",
       "    查看附件(在电脑本地点击下列链接,可直接打开对应文件)                 提交时间  \n",
       "0                           NaN  2023-09-01 23:40:13  \n",
       "1                           NaN  2023-09-01 18:06:59  \n",
       "2                           NaN  2023-09-01 16:25:11  \n",
       "3                           NaN  2023-09-01 13:56:15  \n",
       "4                           NaN  2023-08-31 23:15:20  \n",
       "..                          ...                  ...  \n",
       "86                          NaN  2023-08-30 21:40:22  \n",
       "87                          NaN  2023-08-30 21:09:06  \n",
       "88                          NaN  2023-08-30 21:04:18  \n",
       "89                          NaN  2023-08-30 20:43:55  \n",
       "90                          NaN  2023-08-30 20:39:22  \n",
       "\n",
       "[91 rows x 5 columns]"
      ]
     },
     "execution_count": 2,
     "metadata": {},
     "output_type": "execute_result"
    }
   ],
   "source": [
    "pd.read_csv(R'000_《统计与数据分析》课程第一次作业收集_提交统计.csv',encoding='GBK')"
   ]
  },
  {
   "cell_type": "code",
   "execution_count": 3,
   "metadata": {},
   "outputs": [],
   "source": [
    "列名列表=['姓名','学号','Github仓库地址']\n",
    "df1=pd.read_csv(R'第一次作业提交统计.csv',encoding='GBK',usecols=列名列表)"
   ]
  },
  {
   "cell_type": "code",
   "execution_count": 4,
   "metadata": {},
   "outputs": [],
   "source": [
    "df1.to_csv('csv保存练习.csv',index = False)"
   ]
  },
  {
   "cell_type": "code",
   "execution_count": 5,
   "metadata": {},
   "outputs": [],
   "source": [
    "#任务2:xls格式数据的读写练习\n",
    "df2 = pd.read_excel(R'000_《统计与数据分析》课程第一次作业收集_提交统计.xlsx',\n",
    "sheet_name='提交清单',usecols=['姓名','学号','Github仓库地址'])"
   ]
  },
  {
   "cell_type": "code",
   "execution_count": 9,
   "metadata": {},
   "outputs": [],
   "source": [
    "df2.to_excel(R'excel保存练习.xlsx',index=False)"
   ]
  },
  {
   "cell_type": "code",
   "execution_count": 15,
   "metadata": {},
   "outputs": [],
   "source": [
    "#任务3: sav格式数据的读写查询\n",
    "df3=pd.read_spss(R'企业形象调查原始数据.sav')"
   ]
  },
  {
   "cell_type": "code",
   "execution_count": 16,
   "metadata": {},
   "outputs": [],
   "source": [
    "import pyreadstat"
   ]
  },
  {
   "cell_type": "code",
   "execution_count": 20,
   "metadata": {},
   "outputs": [],
   "source": [
    "d=pyreadstat.read_sav(R'企业形象调查原始数据.sav')"
   ]
  },
  {
   "cell_type": "code",
   "execution_count": 25,
   "metadata": {},
   "outputs": [],
   "source": [
    "#任务4：pdf格式数据的读写查询\n",
    "import pdfplumber\n",
    "pdf=pdfplumber.open(R'高考核心词汇1278.pdf')"
   ]
  },
  {
   "cell_type": "code",
   "execution_count": 30,
   "metadata": {},
   "outputs": [],
   "source": [
    "table=[]\n",
    "for i in range(len(pdf.pages)-1):\n",
    "#从第一页循环到最后一页\n",
    "    page=pdf.pages[i+1]\n",
    "#page.extract_table()的作用是提取当前页面page中的表格\n",
    "#table.extend的作用是将元素增加到列表table中\n",
    "    table.extend(page.extract_table())"
   ]
  },
  {
   "cell_type": "code",
   "execution_count": 33,
   "metadata": {},
   "outputs": [],
   "source": [
    "pdf_df = pd.DataFrame(table[2:])"
   ]
  },
  {
   "cell_type": "code",
   "execution_count": 34,
   "metadata": {},
   "outputs": [],
   "source": [
    "pdf_df.to_excel('表格数据读取练习结果.xlsx',index=False)"
   ]
  },
  {
   "cell_type": "code",
   "execution_count": 31,
   "metadata": {},
   "outputs": [
    {
     "name": "stdout",
     "output_type": "stream",
     "text": [
      "0\n",
      "1\n",
      "2\n",
      "3\n",
      "4\n",
      "5\n",
      "6\n",
      "7\n",
      "8\n",
      "9\n",
      "10\n",
      "11\n",
      "12\n",
      "13\n",
      "14\n",
      "15\n",
      "16\n",
      "17\n",
      "18\n",
      "19\n",
      "20\n",
      "21\n",
      "22\n",
      "23\n",
      "24\n",
      "25\n",
      "26\n",
      "27\n",
      "28\n",
      "29\n",
      "30\n",
      "31\n",
      "32\n",
      "33\n",
      "34\n",
      "35\n",
      "36\n",
      "37\n",
      "38\n",
      "39\n",
      "40\n",
      "41\n",
      "42\n",
      "43\n",
      "44\n",
      "45\n",
      "46\n",
      "47\n",
      "48\n",
      "49\n",
      "50\n",
      "51\n",
      "52\n",
      "53\n",
      "54\n",
      "55\n",
      "56\n",
      "57\n",
      "58\n",
      "59\n",
      "60\n",
      "61\n",
      "62\n",
      "63\n",
      "64\n",
      "65\n",
      "66\n",
      "67\n",
      "68\n",
      "69\n",
      "70\n",
      "71\n",
      "72\n",
      "73\n",
      "74\n",
      "75\n",
      "76\n",
      "77\n",
      "78\n",
      "79\n",
      "80\n",
      "81\n",
      "82\n",
      "83\n",
      "84\n",
      "85\n",
      "86\n",
      "87\n",
      "88\n",
      "89\n",
      "90\n"
     ]
    }
   ],
   "source": [
    "for i in range(len(pdf.pages)-1):\n",
    "    print(i)"
   ]
  }
 ],
 "metadata": {
  "kernelspec": {
   "display_name": "Python 3",
   "language": "python",
   "name": "python3"
  },
  "language_info": {
   "codemirror_mode": {
    "name": "ipython",
    "version": 3
   },
   "file_extension": ".py",
   "mimetype": "text/x-python",
   "name": "python",
   "nbconvert_exporter": "python",
   "pygments_lexer": "ipython3",
   "version": "3.8.10"
  },
  "orig_nbformat": 4
 },
 "nbformat": 4,
 "nbformat_minor": 2
}
