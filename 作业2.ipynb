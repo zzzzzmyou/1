{
 "cells": [
  {
   "cell_type": "code",
   "execution_count": 4,
   "metadata": {},
   "outputs": [
    {
     "name": "stdout",
     "output_type": "stream",
     "text": [
      "[{'姓名': '许思勤', '学号': 'p221014505', 'Github仓库地址': 'https://github.com/qqliulian/liulianhao'}, {'姓名': '高娴', '学号': 'P221014587', 'Github仓库地址': 'https://github.com/gx530381/gxx'}, {'姓名': '周茂', '学号': 'P221014674', 'Github仓库地址': 'https://github.com/zzzzzmyou/1'}, {'姓名': '古颜', '学号': 'P221014641', 'Github仓库地址': 'https://github.com/luohuazhanbaiyi/111'}, {'姓名': '颜慈', '学号': 'P221014638', 'Github仓库地址': 'https://github.com/Yuxikkk/yyyc'}, {'姓名': '帕提古丽', '学号': 'P221014711', 'Github仓库地址': 'https://github.com/ptgl123/ptgl0000.git'}, {'姓名': '刘德鑫', '学号': 'P221014687', 'Github仓库地址': 'https://github.com/echo-2023chess/luxuriant.git'}, {'姓名': '阿依图提古丽·努尔买买提', '学号': 'P221016159', 'Github仓库地址': 'https://github.com/ayttgl/abc'}, {'姓名': '马晓琬', '学号': 'P221014487', 'Github仓库地址': 'https://github.com/abmxw/yori'}, {'姓名': '拉巴曲措', '学号': 'P221014494', 'Github仓库地址': 'https://github.com/rryy445566hh/tyujio9007'}, {'姓名': '秦文雅', '学号': 'P221014633', 'Github仓库地址': 'https://github.com/qinwenya/2017668014-qq.com'}, {'姓名': '   古丽妮尕尔', '学号': 'P221016162', 'Github仓库地址': 'https://github.com/3325517452/6841'}, {'姓名': '杨秀萱', '学号': 'P221014427', 'Github仓库地址': 'https://github.com/guirsnguise/wafagvg'}, {'姓名': '尼玛拉珍', '学号': 'P221014578', 'Github仓库地址': 'https://github.com/131708675/HOME'}, {'姓名': '李秋梅', '学号': 'P221014672', 'Github仓库地址': 'https://github.com/3053063553/pythonzuoye.git'}, {'姓名': '徐睿鲲', '学号': 'P221014520', 'Github仓库地址': 'https://github.com/huuggu/xuanxiu'}, {'姓名': '罗青云', '学号': 'P221014479', 'Github仓库地址': 'https://github.com/laoma12/home/commit/79ac562a2884e647ca06b2d71291cafb90672c8f'}, {'姓名': '徐艳丽', '学号': 'P221014516', 'Github仓库地址': 'https://github.com/Xuyanli-Hub/xuyanli'}, {'姓名': '林家宇·', '学号': 'P221014584', 'Github仓库地址': 'https://github.com/puishing/12345'}, {'姓名': '格珍', '学号': 'P221014664', 'Github仓库地址': 'https://github.com/defywgvucwhv/defywgvucwhv'}, {'姓名': '古颜', '学号': 'P221014641', 'Github仓库地址': 'https://github.com/luohuazhanbaiyi/hahaha'}, {'姓名': '周茂', '学号': 'P221014674', 'Github仓库地址': 'https://github.com/zzzzzmyou/zzzzzmyou1'}, {'姓名': '龙舒晴', '学号': 'P221014472', 'Github仓库地址': 'https://github.com/554108/lugetel'}, {'姓名': '张峰硕', '学号': 'p221014481', 'Github仓库地址': 'https://github.com/LitangGuailing/Litang.git'}, {'姓名': '单梅', '学号': 'P221014627', 'Github仓库地址': 'https://github.com/910318830/33'}, {'姓名': '李佳佳', '学号': 'P221014595', 'Github仓库地址': 'https://github.com/2012644838/homework'}, {'姓名': '拉巴曲措', '学号': 'P221014494', 'Github仓库地址': 'https://github.com/rryy445566hh/tyujio9007'}, {'姓名': '德丽巴尔·叶尔肯', '学号': 'P221016193', 'Github仓库地址': 'https://github.com/hulihutuao/dhomework'}, {'姓名': '蒙昱婕', '学号': 'P221014684', 'Github仓库地址': 'https://github.com/D5renge/mengyujie.git'}, {'姓名': '杜古尔加甫·莎仁图娅', '学号': 'P221014710', 'Github仓库地址': 'https://github.com/sharentuya/sharentuya.git'}, {'姓名': '张雨婷', '学号': 'P221014682', 'Github仓库地址': 'https://github.com/zythyszyq/hello.git'}, {'姓名': '李媛媛', '学号': 'P221014566', 'Github仓库地址': 'https://github.com/02Yyli/liy7uanyuan'}, {'姓名': '马君兰', '学号': 'P221014486', 'Github仓库地址': 'https://github.com/majunlan/aynnnnar'}, {'姓名': '姜雨廷', '学号': 'P221014653', 'Github仓库地址': 'https://github.com/Comlimen/Clementine'}, {'姓名': '李春阳', '学号': 'P221014716', 'Github仓库地址': 'https://github.com/edg7777777/edg7777777'}, {'姓名': '石文静', '学号': 'P221014712', 'Github仓库地址': 'https://github.com/wenjing999/wenjing'}, {'姓名': '古颜', '学号': 'P221014641', 'Github仓库地址': 'https://github.com/luohuazhanbaiyi/hahaha'}, {'姓名': '王倩', '学号': 'P221014474', 'Github仓库地址': 'https://github.com/lingjunji/statistic-2021'}, {'姓名': '韦亚琦', '学号': 'P221014597', 'Github仓库地址': 'https://github.com/weiyaqi1123/3289834600'}, {'姓名': '钟丽丽', '学号': 'P221014598', 'Github仓库地址': 'https://github.com/9zll/cat.git'}, {'姓名': '程超', '学号': 'P221014642', 'Github仓库地址': 'https://github.com/chengchao12/chao'}, {'姓名': '张骞月', '学号': 'P221014696', 'Github仓库地址': 'https://github.com/bbii00/bbii'}, {'姓名': '马小龙', '学号': 'p221014680', 'Github仓库地址': 'https://github.com/maxiao999/maxiao'}, {'姓名': '徐靖哲', '学号': 'P221014695', 'Github仓库地址': 'https://github.com/LiTangWang6/LiTang'}, {'姓名': '马心仪', '学号': 'P221014655', 'Github仓库地址': 'https://github.com/manshukesi/momo'}, {'姓名': '赵咪', '学号': 'P221014589', 'Github仓库地址': 'https://github.com/amor0613/7homework'}, {'姓名': '付竹', '学号': 'P221014482', 'Github仓库地址': 'https://github.com/yiyanglaurel/new-one'}, {'姓名': '莫崧晟', '学号': 'P221014683', 'Github仓库地址': 'https://github.com/mosongsheng/mm'}, {'姓名': '陈金玲', '学号': 'P221014689', 'Github仓库地址': 'https://github.com/Chenling2580/homework.git'}, {'姓名': '田旋', '学号': 'P221014650', 'Github仓库地址': 'https://github.com/2585615815/homework.git'}, {'姓名': '王佳陆', '学号': 'P221014700', 'Github仓库地址': 'https://gitee.com/lovewangyuan/lovewangyuan.git'}, {'姓名': '张穆紫', '学号': 'P221014693', 'Github仓库地址': 'https://github.com/1065953416/homework.git'}, {'姓名': '蓝苡榕', '学号': 'P221014511', 'Github仓库地址': 'https://github.com/lanyirongacyl/statistic'}, {'姓名': '李昱佳', '学号': 'P221014631', 'Github仓库地址': 'https://github.com/neodreamcity/nct2023'}, {'姓名': '德央', '学号': 'P221014580', 'Github仓库地址': 'https://github.com/638638/home'}, {'姓名': '付竹', '学号': 'P221014482', 'Github仓库地址': 'https://github.com/yiyanglaurel/new-one'}, {'姓名': '杜晓涵', '学号': 'P221014618', 'Github仓库地址': 'https://github.com/1223351431/AnnCLOUDS'}, {'姓名': '马心仪', '学号': 'P221014655', 'Github仓库地址': 'https://github.com/manshukesi/momo.git'}, {'姓名': '迪拉热·凯撒尔', '学号': 'P221014586', 'Github仓库地址': 'https://github.com/3031088667/supreme-broccoli'}, {'姓名': '李媛媛', '学号': 'P221014566', 'Github仓库地址': 'https://github.com/02Yyli/liy7uanyuan.git'}, {'姓名': '余静怡', '学号': 'P221014461', 'Github仓库地址': 'https://github.com/yujingyi11/kitty'}, {'姓名': '刘占森', '学号': 'P221014508', 'Github仓库地址': 'https://github.com/Anbnann/homework'}, {'姓名': '马君兰', '学号': 'P221014486', 'Github仓库地址': 'https://github.com/majunlan/aynnnar.git'}, {'姓名': '赵美亮', '学号': 'P221014502', 'Github仓库地址': ' https://github.com/zhaomeiliang/homework.git'}, {'姓名': '马晓琬', '学号': 'P221014487', 'Github仓库地址': 'https://github.com/abmxw/yori'}, {'姓名': '陈好', '学号': 'P221014490', 'Github仓库地址': 'https://github.com/vcvgv/vcvgv'}, {'姓名': '刘佳伊', '学号': 'P221014541', 'Github仓库地址': 'https://github.com/Katherine789/2023.8.30'}, {'姓名': '万栩恺', '学号': 'P221014515', 'Github仓库地址': 'https://github.com/522564718/van'}, {'姓名': '徐文佩', '学号': 'P221014478', 'Github仓库地址': 'https://github.com/nigudinzhen/nigudinzhen.git'}, {'姓名': '左日古丽白克', '学号': 'P221014539', 'Github仓库地址': 'https://github.com/zori0815/paaaa.git'}, {'姓名': '司诺', '学号': 'P220914024', 'Github仓库地址': 'https://github.com/OSBORRRN/SINOOO'}, {'姓名': '艾丽菲热·艾尔肯', '学号': 'P221014543', 'Github仓库地址': 'https://github.com/deeeeeeeeeer/alfira'}, {'姓名': '刘露', '学号': 'P221014513', 'Github仓库地址': 'https://github.com/Liuxiyayuan/liuchaoqian'}, {'姓名': '徐艳丽', '学号': 'P221014516', 'Github仓库地址': 'https://github.com/Xuyanli-Hub/xuyanli'}, {'姓名': '潘莹莹', '学号': 'P221014510', 'Github仓库地址': 'https://github.com/Penny39/panny.git'}, {'姓名': '张亚君', '学号': 'P221014446', 'Github仓库地址': 'https://github.com/zyj031214/zqlwx'}, {'姓名': '马枫羽', '学号': 'P221014542', 'Github仓库地址': 'https://github.com/MaFengyu/mfy'}, {'姓名': '许飞菲', '学号': 'P221014424', 'Github仓库地址': 'https://github.com/xffei/repos'}, {'姓名': '艾克丹', '学号': 'p221014452', 'Github仓库地址': 'https://github.com/akida2/AKIDA1'}, {'姓名': '张峰硕', '学号': 'P221014481', 'Github仓库地址': 'https://github.com/LitangGuailing/Litang.git'}, {'姓名': '罗青云', '学号': 'P221014479', 'Github仓库地址': 'https://github.com/laoma12/home'}, {'姓名': '余静怡', '学号': 'P221014461', 'Github仓库地址': 'https://github.com/yujingyi11/kitty'}, {'姓名': '罗朝婷', '学号': 'P221014430', 'Github仓库地址': 'https://github.com/zbnxhghg/zbnxhghg'}, {'姓名': '史竹然', '学号': 'P221014439', 'Github仓库地址': 'https://github.com/Lumen1015/Store-2023'}, {'姓名': '曾琳', '学号': 'P221014431', 'Github仓库地址': 'https://github.com/Lnyelnye/cautious-barnacle'}, {'姓名': '海雪', '学号': 'P221014419', 'Github仓库地址': 'https://github.com/shithiy/statistics-2023'}, {'姓名': '徐睿鲲', '学号': 'P221014520', 'Github仓库地址': 'https://github.com/huuggu/xuanxiu'}, {'姓名': '刘占森', '学号': 'P221014508', 'Github仓库地址': 'https://github.com/Anbnann/homework'}, {'姓名': '崔益广', '学号': 'P221014559', 'Github仓库地址': 'https://github.com/Anuibmlcu/cuizero'}, {'姓名': '吴娅蕾', '学号': 'P221014457', 'Github仓库地址': 'https://github.com/imAShiiiiiii/statistic-2023'}, {'姓名': '蓝苡榕', '学号': 'P221014511', 'Github仓库地址': 'https://github.com/lanyirongacyl/statistic'}]\n"
     ]
    }
   ],
   "source": [
    "import pandas as pd\n",
    "\n",
    "# 读取Excel文件\n",
    "原始数据 = R'000_《统计与数据分析》课程第一次作业收集_提交统计.xlsx'  \n",
    "工作表 = '提交清单'  # 替换为你要读取的工作表名称\n",
    "列名列表 = ['姓名', '学号', 'Github仓库地址']  # 替换为你要读取的列名列表\n",
    "\n",
    "# 读取指定列数据\n",
    "df = pd.read_excel(原始数据, sheet_name=工作表, usecols=列名列表)\n",
    "\n",
    "# 将数据转化为字典\n",
    "学生信息 = df.to_dict(orient='records')\n",
    "\n",
    "print(学生信息)\n"
   ]
  },
  {
   "cell_type": "code",
   "execution_count": 5,
   "metadata": {},
   "outputs": [
    {
     "name": "stdout",
     "output_type": "stream",
     "text": [
      "https://github.com/imAShiiiiiii/statistic-2023\n"
     ]
    }
   ],
   "source": [
    "for item in 学生信息:\n",
    "    if item[\"姓名\"] == \"吴娅蕾\":\n",
    "        print(item[\"Github仓库地址\"])"
   ]
  },
  {
   "cell_type": "code",
   "execution_count": 6,
   "metadata": {},
   "outputs": [],
   "source": [
    "def get_github_url(student_id, student_list):\n",
    "    for student in student_list:\n",
    "        if student['学号'] == student_id:\n",
    "            return student['Github仓库地址']\n",
    "    return None"
   ]
  },
  {
   "cell_type": "code",
   "execution_count": 7,
   "metadata": {},
   "outputs": [
    {
     "data": {
      "text/plain": [
       "'https://github.com/lanyirongacyl/statistic'"
      ]
     },
     "execution_count": 7,
     "metadata": {},
     "output_type": "execute_result"
    }
   ],
   "source": [
    "get_github_url('P221014511', 学生信息)"
   ]
  },
  {
   "cell_type": "code",
   "execution_count": 15,
   "metadata": {},
   "outputs": [],
   "source": [
    "import requests\n",
    "from datetime import datetime\n",
    "\n",
    "def get_push_count(repo_url):\n",
    "    # 构造API请求URL\n",
    "    api_url = repo_url.replace(\"https://github.com/\", \"https://api.github.com/repos/\") + \"/commits\"\n",
    "    # 发送API请求\n",
    "    response = requests.get(api_url,verify=False)\n",
    "    # 解析API响应\n",
    "    data = response.json()\n",
    "    # 初始化推送次数和日期\n",
    "    push_count = 0\n",
    "    push_date = None\n",
    "    # 遍历每个提交记录\n",
    "    for commit in data:\n",
    "        # 获取提交时间\n",
    "        commit_time = datetime.strptime(commit['commit']['committer']['date'], '%Y-%m-%dT%H:%M:%SZ')\n",
    "        # 判断是否为最近一次提交\n",
    "        if push_date is None or commit_time > push_date:\n",
    "            push_date = commit_time\n",
    "            push_count = 1\n",
    "        elif commit_time == push_date:\n",
    "            push_count += 1\n",
    "    # 返回推送次数和日期\n",
    "    return push_count, push_date.strftime(\"%Y-%m-%d\")\n"
   ]
  },
  {
   "cell_type": "code",
   "execution_count": 13,
   "metadata": {},
   "outputs": [],
   "source": [
    "import requests\n",
    "from datetime import datetime\n",
    "\n",
    "def get_push_time(repo_url):\n",
    "    # 构造API请求URL\n",
    "    api_url = repo_url.replace(\"https://github.com/\", \"https://api.github.com/repos/\") + \"/commits\"\n",
    "    # 发送API请求\n",
    "    response = requests.get(api_url,verify=False)\n",
    "    # 解析API响应\n",
    "    data = response.json()\n",
    "    # 初始化推送时间列表\n",
    "    push_times = []\n",
    "    # 遍历每个提交记录\n",
    "    for commit in data:\n",
    "        # 获取提交时间\n",
    "        commit_time = datetime.strptime(commit['commit']['committer']['date'], '%Y-%m-%dT%H:%M:%SZ')\n",
    "        # 将推送时间添加到列表中\n",
    "        push_times.append(commit_time)\n",
    "    # 返回推送时间列表\n",
    "    return push_times\n"
   ]
  },
  {
   "cell_type": "code",
   "execution_count": 16,
   "metadata": {},
   "outputs": [
    {
     "name": "stderr",
     "output_type": "stream",
     "text": [
      "c:\\Program Files\\Python38\\lib\\site-packages\\urllib3\\connectionpool.py:1095: InsecureRequestWarning: Unverified HTTPS request is being made to host 'api.github.com'. Adding certificate verification is strongly advised. See: https://urllib3.readthedocs.io/en/latest/advanced-usage.html#tls-warnings\n",
      "  warnings.warn(\n"
     ]
    },
    {
     "data": {
      "text/plain": [
       "(1, '2023-09-13')"
      ]
     },
     "execution_count": 16,
     "metadata": {},
     "output_type": "execute_result"
    }
   ],
   "source": [
    "get_push_count('https://github.com/lanyirongacyl/statistic')"
   ]
  },
  {
   "cell_type": "code",
   "execution_count": 14,
   "metadata": {},
   "outputs": [
    {
     "name": "stderr",
     "output_type": "stream",
     "text": [
      "c:\\Program Files\\Python38\\lib\\site-packages\\urllib3\\connectionpool.py:1095: InsecureRequestWarning: Unverified HTTPS request is being made to host 'api.github.com'. Adding certificate verification is strongly advised. See: https://urllib3.readthedocs.io/en/latest/advanced-usage.html#tls-warnings\n",
      "  warnings.warn(\n"
     ]
    },
    {
     "data": {
      "text/plain": [
       "[datetime.datetime(2023, 9, 7, 4, 11, 3),\n",
       " datetime.datetime(2023, 9, 7, 2, 58, 50),\n",
       " datetime.datetime(2023, 9, 6, 2, 8, 52),\n",
       " datetime.datetime(2023, 9, 6, 2, 6, 46),\n",
       " datetime.datetime(2023, 8, 30, 2, 20, 58)]"
      ]
     },
     "execution_count": 14,
     "metadata": {},
     "output_type": "execute_result"
    }
   ],
   "source": [
    "get_push_time('https://github.com/yangjh-xbmu/statistic-2023-2')"
   ]
  },
  {
   "cell_type": "code",
   "execution_count": 17,
   "metadata": {},
   "outputs": [
    {
     "name": "stderr",
     "output_type": "stream",
     "text": [
      "c:\\Program Files\\Python38\\lib\\site-packages\\urllib3\\connectionpool.py:1095: InsecureRequestWarning: Unverified HTTPS request is being made to host 'api.github.com'. Adding certificate verification is strongly advised. See: https://urllib3.readthedocs.io/en/latest/advanced-usage.html#tls-warnings\n",
      "  warnings.warn(\n"
     ]
    },
    {
     "ename": "TypeError",
     "evalue": "string indices must be integers",
     "output_type": "error",
     "traceback": [
      "\u001b[1;31m---------------------------------------------------------------------------\u001b[0m",
      "\u001b[1;31mTypeError\u001b[0m                                 Traceback (most recent call last)",
      "Cell \u001b[1;32mIn[17], line 1\u001b[0m\n\u001b[1;32m----> 1\u001b[0m get_push_time(\u001b[39m'\u001b[39;49m\u001b[39mhttps://github.com/yangjh-xbmu/ai\u001b[39;49m\u001b[39m'\u001b[39;49m)\n",
      "Cell \u001b[1;32mIn[13], line 16\u001b[0m, in \u001b[0;36mget_push_time\u001b[1;34m(repo_url)\u001b[0m\n\u001b[0;32m     13\u001b[0m \u001b[39m# 遍历每个提交记录\u001b[39;00m\n\u001b[0;32m     14\u001b[0m \u001b[39mfor\u001b[39;00m commit \u001b[39min\u001b[39;00m data:\n\u001b[0;32m     15\u001b[0m     \u001b[39m# 获取提交时间\u001b[39;00m\n\u001b[1;32m---> 16\u001b[0m     commit_time \u001b[39m=\u001b[39m datetime\u001b[39m.\u001b[39mstrptime(commit[\u001b[39m'\u001b[39;49m\u001b[39mcommit\u001b[39;49m\u001b[39m'\u001b[39;49m][\u001b[39m'\u001b[39m\u001b[39mcommitter\u001b[39m\u001b[39m'\u001b[39m][\u001b[39m'\u001b[39m\u001b[39mdate\u001b[39m\u001b[39m'\u001b[39m], \u001b[39m'\u001b[39m\u001b[39m%\u001b[39m\u001b[39mY-\u001b[39m\u001b[39m%\u001b[39m\u001b[39mm-\u001b[39m\u001b[39m%d\u001b[39;00m\u001b[39mT\u001b[39m\u001b[39m%\u001b[39m\u001b[39mH:\u001b[39m\u001b[39m%\u001b[39m\u001b[39mM:\u001b[39m\u001b[39m%\u001b[39m\u001b[39mSZ\u001b[39m\u001b[39m'\u001b[39m)\n\u001b[0;32m     17\u001b[0m     \u001b[39m# 将推送时间添加到列表中\u001b[39;00m\n\u001b[0;32m     18\u001b[0m     push_times\u001b[39m.\u001b[39mappend(commit_time)\n",
      "\u001b[1;31mTypeError\u001b[0m: string indices must be integers"
     ]
    }
   ],
   "source": [
    "get_push_time('https://github.com/yangjh-xbmu/ai')"
   ]
  }
 ],
 "metadata": {
  "kernelspec": {
   "display_name": "Python 3",
   "language": "python",
   "name": "python3"
  },
  "language_info": {
   "codemirror_mode": {
    "name": "ipython",
    "version": 3
   },
   "file_extension": ".py",
   "mimetype": "text/x-python",
   "name": "python",
   "nbconvert_exporter": "python",
   "pygments_lexer": "ipython3",
   "version": "3.8.10"
  },
  "orig_nbformat": 4
 },
 "nbformat": 4,
 "nbformat_minor": 2
}
